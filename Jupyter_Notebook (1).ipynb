{
  "metadata": {
    "kernelspec": {
      "name": "python",
      "display_name": "Pyolite",
      "language": "python"
    },
    "language_info": {
      "codemirror_mode": {
        "name": "python",
        "version": 3
      },
      "file_extension": ".py",
      "mimetype": "text/x-python",
      "name": "python",
      "nbconvert_exporter": "python",
      "pygments_lexer": "ipython3",
      "version": "3.8"
    },
    "colab": {
      "name": "Jupyter_Notebook.ipynb",
      "provenance": [],
      "collapsed_sections": []
    }
  },
  "nbformat_minor": 0,
  "nbformat": 4,
  "cells": [
    {
      "cell_type": "markdown",
      "source": [
        "<center>\n",
        "    <img src=\"https://s3-api.us-geo.objectstorage.softlayer.net/cf-courses-data/CognitiveClass/Logos/organization_logo/organization_logo.png\" width=\"300\" alt=\"cognitiveclass.ai logo\"  />\n",
        "</center>\n"
      ],
      "metadata": {
        "id": "GBQBnhiZOs01"
      }
    },
    {
      "cell_type": "markdown",
      "source": [
        "#### Add your code below following the instructions given in the course\n"
      ],
      "metadata": {
        "id": "BbnE2S35Os09"
      }
    },
    {
      "cell_type": "markdown",
      "source": [
        "<h1>My Jupyter Notebook on IBM Watson Studio</h1>"
      ],
      "metadata": {
        "id": "9wi1yRWQOs0_"
      }
    },
    {
      "cell_type": "markdown",
      "source": [
        "**Phuong Nguyen Ngoc Cuc**\n",
        "\n",
        "Data scientist"
      ],
      "metadata": {
        "id": "tUljUldKOs1A"
      }
    },
    {
      "cell_type": "markdown",
      "source": [
        "*I am interested in data science because this field is comprehensive and always updated for us to learn new things*"
      ],
      "metadata": {
        "id": "bH1057ehOs1B"
      }
    },
    {
      "cell_type": "markdown",
      "source": [
        "<h3>Simple multiplication:</h3>"
      ],
      "metadata": {
        "id": "OegEnDEsOs1C"
      }
    },
    {
      "cell_type": "code",
      "source": [
        "3 * 4"
      ],
      "metadata": {
        "id": "f0hydKElOs1E",
        "outputId": "56482413-388e-4329-f48d-e00d9313edc2",
        "colab": {
          "base_uri": "https://localhost:8080/"
        }
      },
      "execution_count": 2,
      "outputs": [
        {
          "output_type": "execute_result",
          "data": {
            "text/plain": [
              "12"
            ]
          },
          "metadata": {},
          "execution_count": 2
        }
      ]
    },
    {
      "cell_type": "markdown",
      "source": [
        "Introduction\n",
        ">Jupyter notebook\n",
        "\n",
        "<a href = \"https://translate.google.com/?hl=vi&sl=en&tl=vi&op=translate\" >Google translate</a>\n",
        "\n",
        "<s>Phuong Nguyen Ngoc Cuc</s>\n",
        "\n",
        "<img src=\"https://www.agoda.com/vi-vn/city/venice-it.html\">"
      ],
      "metadata": {
        "jp-MarkdownHeadingCollapsed": true,
        "tags": [],
        "id": "Vq2GDFH_Os1J"
      }
    },
    {
      "cell_type": "code",
      "source": [
        ""
      ],
      "metadata": {
        "id": "AR8BpawzOs1K"
      },
      "execution_count": null,
      "outputs": []
    }
  ]
}